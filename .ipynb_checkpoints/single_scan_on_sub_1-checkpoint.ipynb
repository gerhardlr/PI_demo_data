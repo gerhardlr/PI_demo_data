{
 "cells": [
  {
   "cell_type": "markdown",
   "metadata": {},
   "source": [
    "# Run a single scan observation"
   ]
  },
  {
   "cell_type": "markdown",
   "metadata": {},
   "source": [
    "*import OET API (part of unit under test) and set logging level*"
   ]
  },
  {
   "cell_type": "code",
   "execution_count": 1,
   "metadata": {},
   "outputs": [],
   "source": [
    "from astropy.coordinates import SkyCoord\n",
    "from oet.domain import *\n",
    "import logging\n",
    "# Configure OET logging\n",
    "oet_logger = logging.getLogger('oet')\n",
    "oet_logger.setLevel(logging.INFO)\n",
    "# create console handler and set level to debug\n",
    "console_handler = logging.StreamHandler()\n",
    "console_handler.setLevel(logging.INFO)\n",
    "# create formatter\n",
    "formatter = logging.Formatter('%(name)-12s: %(levelname)-8s %(message)s')\n",
    "# add formatter to ch\n",
    "console_handler.setFormatter(formatter)\n",
    "# add ch to logger\n",
    "oet_logger.addHandler(console_handler)"
   ]
  },
  {
   "cell_type": "markdown",
   "metadata": {},
   "source": [
    "Go to the directory with the scan definition file"
   ]
  },
  {
   "cell_type": "code",
   "execution_count": 2,
   "metadata": {},
   "outputs": [
    {
     "name": "stdout",
     "output_type": "stream",
     "text": [
      "/app/sp354\n"
     ]
    }
   ],
   "source": [
    "cd sp354"
   ]
  },
  {
   "cell_type": "code",
   "execution_count": 3,
   "metadata": {},
   "outputs": [],
   "source": [
    "scan_file = 'polaris_b1_no_cam.json'"
   ]
  },
  {
   "cell_type": "markdown",
   "metadata": {},
   "source": [
    "Function to set the workflow ID"
   ]
  },
  {
   "cell_type": "code",
   "execution_count": 4,
   "metadata": {},
   "outputs": [],
   "source": [
    "import json\n",
    "\n",
    "def set_workflow_id(file, workflow_id):\n",
    "    with open(file,'r') as f: \n",
    "        data = json.load(f)\n",
    "    data['sdp']['configure'][0]['workflow']['id'] = 'vis_receive'\n",
    "    with open(file,'w') as f:\n",
    "        json.dump(data, f)"
   ]
  },
  {
   "cell_type": "markdown",
   "metadata": {},
   "source": [
    "Set workflow ID to 'vis_receive'"
   ]
  },
  {
   "cell_type": "code",
   "execution_count": 5,
   "metadata": {},
   "outputs": [],
   "source": [
    "set_workflow_id(scan_file, 'vis_receive')"
   ]
  },
  {
   "cell_type": "markdown",
   "metadata": {},
   "source": [
    "*create the domain objects which will be controlled during the test*"
   ]
  },
  {
   "cell_type": "code",
   "execution_count": 6,
   "metadata": {},
   "outputs": [],
   "source": [
    "telescope = SKAMid()\n",
    "subarray = SubArray(1)"
   ]
  },
  {
   "cell_type": "markdown",
   "metadata": {},
   "source": [
    "*start the telescope*"
   ]
  },
  {
   "cell_type": "code",
   "execution_count": 7,
   "metadata": {},
   "outputs": [
    {
     "name": "stderr",
     "output_type": "stream",
     "text": [
      "oet.command : INFO     Executing command: <Command('ska_mid/tm_central/central_node', 'StartUpTelescope', , )>\n"
     ]
    }
   ],
   "source": [
    "telescope.start_up()"
   ]
  },
  {
   "cell_type": "markdown",
   "metadata": {},
   "source": [
    "*create an allocation specification*"
   ]
  },
  {
   "cell_type": "code",
   "execution_count": 8,
   "metadata": {},
   "outputs": [],
   "source": [
    "allocation = ResourceAllocation(dishes=[Dish(1), Dish(2)])"
   ]
  },
  {
   "cell_type": "markdown",
   "metadata": {},
   "source": [
    "*allocate the resources*"
   ]
  },
  {
   "cell_type": "code",
   "execution_count": 9,
   "metadata": {},
   "outputs": [
    {
     "name": "stderr",
     "output_type": "stream",
     "text": [
      "oet.command : INFO     Executing command: <Command('ska_mid/tm_central/central_node', 'AssignResources', '{\"subarrayID\": 1, \"dish\": {\"receptorIDList\": [\"0001\", \"0002\"]}}', )>\n"
     ]
    },
    {
     "data": {
      "text/plain": [
       "<ResourceAllocation(dishes=[<Dish(1)>, <Dish(2)>])>"
      ]
     },
     "execution_count": 9,
     "metadata": {},
     "output_type": "execute_result"
    }
   ],
   "source": [
    "subarray.allocate(allocation)"
   ]
  },
  {
   "cell_type": "markdown",
   "metadata": {},
   "source": [
    "*run preconfigured scan, afterwards end the SB (remove the configurations)*"
   ]
  },
  {
   "cell_type": "code",
   "execution_count": 10,
   "metadata": {},
   "outputs": [
    {
     "name": "stderr",
     "output_type": "stream",
     "text": [
      "oet.observingtasks: WARNING  TODO: Factor out PB ID patch introduced for SS-24\n",
      "oet.command : INFO     Executing command: <Command('ska_mid/tm_subarray_node/1', 'Configure', '{\"sdp\": {\"configure\": [{\"parameters\": {\"fields\": {\"0\": {\"name\": \"Polaris\", \"dec\": 1.5579526053855042, \"ra\": 0.6624320498394451, \"system\": \"ICRS\"}}, \"numStations\": 4, \"numPolarisations\": 4, \"freqEndHz\": 1050000000.0, \"numChannels\": 372, \"freqStartHz\": 350000000.0}, \"workflow\": {\"version\": \"0.1.0\", \"id\": \"vis_receive\", \"type\": \"realtime\"}, \"sbiId\": \"20190627-0001\", \"id\": \"realtime-20200221-0001\", \"scanParameters\": {\"1\": {\"fieldId\": 0, \"intervalMs\": 1400}}}]}, \"csp\": {\"fsp\": [{\"corrBandwidth\": 0, \"functionMode\": \"CORR\", \"frequencySliceID\": 1, \"integrationTime\": 1400, \"fspID\": 1}], \"frequencyBand\": \"1\"}, \"dish\": {\"receiverBand\": \"1\"}, \"pointing\": {\"target\": {\"name\": \"Polaris\", \"dec\": \"+89:15:50.7923\", \"RA\": \"02:31:49.0946\", \"system\": \"ICRS\"}}, \"scanID\": 1}', )>\n"
     ]
    },
    {
     "name": "stdout",
     "output_type": "stream",
     "text": [
      "Reading scan sequence from scan_definitions.csv\n",
      "Configuring sub-array 1 using CDM from polaris_b1_no_cam.json\n"
     ]
    },
    {
     "name": "stderr",
     "output_type": "stream",
     "text": [
      "oet.observingtasks: INFO     Waiting for obsState to transition to CONFIGURING\n",
      "oet.observingtasks: INFO     Waiting for obsState to transition to READY\n",
      "oet.command : INFO     Executing command: <Command('ska_mid/tm_subarray_node/1', 'Scan', '{\"scanDuration\": 14.0}', )>\n",
      "oet.observingtasks: INFO     Waiting for obsState to transition to SCANNING\n"
     ]
    },
    {
     "name": "stdout",
     "output_type": "stream",
     "text": [
      "Scanning for 14.0 seconds\n"
     ]
    },
    {
     "name": "stderr",
     "output_type": "stream",
     "text": [
      "oet.observingtasks: INFO     Waiting for obsState to transition to READY\n",
      "oet.command : INFO     Executing command: <Command('ska_mid/tm_subarray_node/1', 'EndSB', , )>\n",
      "oet.observingtasks: INFO     Waiting for obsState to transition to IDLE\n"
     ]
    }
   ],
   "source": [
    "%run scanrunner.py scan_definitions.csv"
   ]
  },
  {
   "cell_type": "markdown",
   "metadata": {},
   "source": [
    "## Repeat an observation"
   ]
  },
  {
   "cell_type": "code",
   "execution_count": 11,
   "metadata": {},
   "outputs": [
    {
     "name": "stderr",
     "output_type": "stream",
     "text": [
      "oet.observingtasks: WARNING  TODO: Factor out PB ID patch introduced for SS-24\n",
      "oet.command : INFO     Executing command: <Command('ska_mid/tm_subarray_node/1', 'Configure', '{\"sdp\": {\"configure\": [{\"parameters\": {\"fields\": {\"0\": {\"name\": \"Polaris\", \"dec\": 1.5579526053855042, \"ra\": 0.6624320498394451, \"system\": \"ICRS\"}}, \"numStations\": 4, \"numPolarisations\": 4, \"freqEndHz\": 1050000000.0, \"numChannels\": 372, \"freqStartHz\": 350000000.0}, \"workflow\": {\"version\": \"0.1.0\", \"id\": \"vis_receive\", \"type\": \"realtime\"}, \"sbiId\": \"20190627-0001\", \"id\": \"realtime-20200221-0002\", \"scanParameters\": {\"2\": {\"fieldId\": 0, \"intervalMs\": 1400}}}]}, \"csp\": {\"fsp\": [{\"corrBandwidth\": 0, \"functionMode\": \"CORR\", \"frequencySliceID\": 1, \"integrationTime\": 1400, \"fspID\": 1}], \"frequencyBand\": \"1\"}, \"dish\": {\"receiverBand\": \"1\"}, \"pointing\": {\"target\": {\"name\": \"Polaris\", \"dec\": \"+89:15:50.7923\", \"RA\": \"02:31:49.0946\", \"system\": \"ICRS\"}}, \"scanID\": 2}', )>\n"
     ]
    },
    {
     "name": "stdout",
     "output_type": "stream",
     "text": [
      "Reading scan sequence from scan_definitions.csv\n",
      "Configuring sub-array 1 using CDM from polaris_b1_no_cam.json\n"
     ]
    },
    {
     "name": "stderr",
     "output_type": "stream",
     "text": [
      "oet.observingtasks: INFO     Waiting for obsState to transition to CONFIGURING\n",
      "oet.observingtasks: INFO     Waiting for obsState to transition to READY\n",
      "oet.command : INFO     Executing command: <Command('ska_mid/tm_subarray_node/1', 'Scan', '{\"scanDuration\": 14.0}', )>\n",
      "oet.observingtasks: INFO     Waiting for obsState to transition to SCANNING\n"
     ]
    },
    {
     "name": "stdout",
     "output_type": "stream",
     "text": [
      "Scanning for 14.0 seconds\n"
     ]
    },
    {
     "name": "stderr",
     "output_type": "stream",
     "text": [
      "oet.observingtasks: INFO     Waiting for obsState to transition to READY\n",
      "oet.command : INFO     Executing command: <Command('ska_mid/tm_subarray_node/1', 'EndSB', , )>\n",
      "oet.observingtasks: INFO     Waiting for obsState to transition to IDLE\n"
     ]
    }
   ],
   "source": [
    "%run scanrunner.py scan_definitions.csv"
   ]
  },
  {
   "cell_type": "code",
   "execution_count": null,
   "metadata": {},
   "outputs": [],
   "source": []
  }
 ],
 "metadata": {
  "kernelspec": {
   "display_name": "Python 3",
   "language": "python",
   "name": "python3"
  },
  "language_info": {
   "codemirror_mode": {
    "name": "ipython",
    "version": 3
   },
   "file_extension": ".py",
   "mimetype": "text/x-python",
   "name": "python",
   "nbconvert_exporter": "python",
   "pygments_lexer": "ipython3",
   "version": "3.7.3"
  }
 },
 "nbformat": 4,
 "nbformat_minor": 4
}
