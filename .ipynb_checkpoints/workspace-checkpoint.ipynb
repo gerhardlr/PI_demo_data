{
 "cells": [
  {
   "cell_type": "markdown",
   "metadata": {},
   "source": [
    "# Workspace for doing exploration testing and analysis"
   ]
  },
  {
   "cell_type": "markdown",
   "metadata": {},
   "source": [
    "## Imports and some helper functions"
   ]
  },
  {
   "cell_type": "code",
   "execution_count": 2,
   "metadata": {},
   "outputs": [],
   "source": [
    "from tango import DeviceProxy, DevState, CmdArgType\n",
    "from numpy import ndarray\n",
    "class resource:\n",
    "\n",
    "    device_name = None\n",
    "\n",
    "    def __init__(self,device_name):\n",
    "        self.device_name = device_name\n",
    "    \n",
    "    def get(self,attr):\n",
    "        p = DeviceProxy(self.device_name)\n",
    "        attrs = p.get_attribute_list()\n",
    "        if (attr not in attrs) : return \"attribute not found\"\n",
    "        tp = p._get_attribute_config(attr).data_type\n",
    "        if (tp == CmdArgType.DevEnum):\n",
    "            return getattr(p,attr).name\n",
    "        if (tp == CmdArgType.DevState):\n",
    "            return str(p.read_attribute(attr).value)\n",
    "        else:\n",
    "            value = getattr(p,attr)\n",
    "            if isinstance(value,ndarray):\n",
    "                return tuple(value)\n",
    "            return getattr(p,attr)"
   ]
  },
  {
   "cell_type": "code",
   "execution_count": 3,
   "metadata": {},
   "outputs": [],
   "source": [
    "def update_file(file):\n",
    "    import json\n",
    "    import random\n",
    "    from datetime import date \n",
    "    with open(file,'r') as f: \n",
    "        data = json.load(f)\n",
    "    data['sdp']['configure'][0]['id'] = \"realtime-\"+date.today().strftime(\"%Y%m%d\")+\"-\"+str(random.choice(range(1, 10000))) \n",
    "    with open(file,'w') as f:\n",
    "        json.dump(data, f)\n",
    "file = \"sp354/polaris_b1_no_cam.json\""
   ]
  },
  {
   "cell_type": "code",
   "execution_count": 4,
   "metadata": {},
   "outputs": [],
   "source": [
    "def show(par):\n",
    "    out.clear_output()\n",
    "    with out:\n",
    "        for n in par['names']:\n",
    "            l = [n]\n",
    "            for a in par['att']:\n",
    "                l.append(a)\n",
    "                l.append(resource(n).get(a))\n",
    "            t = tuple(l)\n",
    "            print('%s is in %s %s and %s %s'%t)"
   ]
  },
  {
   "cell_type": "code",
   "execution_count": 5,
   "metadata": {},
   "outputs": [],
   "source": [
    "def read(dev,att):\n",
    "    with out:\n",
    "        val=resource(dev).get(att)\n",
    "        print('%s %s is %s'%(dev,att,val))"
   ]
  },
  {
   "cell_type": "code",
   "execution_count": 6,
   "metadata": {},
   "outputs": [],
   "source": [
    "par1 = {'names':['ska_mid/tm_subarray_node/1',\n",
    "'mid_csp/elt/subarray_01',\n",
    "'mid_sdp/elt/subarray_1',\n",
    "'mid_csp_cbf/sub_elt/subarray_01'],\n",
    "'att':['obsState'\n",
    ",'State']}"
   ]
  },
  {
   "cell_type": "markdown",
   "metadata": {},
   "source": [
    "### Analyse latencies"
   ]
  },
  {
   "cell_type": "markdown",
   "metadata": {},
   "source": [
    "*Create an array of dishmasters - replicated according to the total nr required for the test*"
   ]
  },
  {
   "cell_type": "code",
   "execution_count": 19,
   "metadata": {},
   "outputs": [],
   "source": [
    "dishnames = ['mid_d0001/elt/master','mid_d0002/elt/master','mid_d0003/elt/master','mid_d0004/elt/master']\n",
    "replicated_dishes = [dishnames[x % 4] for x in range(1000)]"
   ]
  },
  {
   "cell_type": "code",
   "execution_count": 26,
   "metadata": {},
   "outputs": [],
   "source": [
    "total_time = 0\n",
    "for x in range(1000):\n",
    "    dish_proxy = DeviceProxy(replicated_dishes[x])\n",
    "    total_time += dish_proxy.ping()"
   ]
  },
  {
   "cell_type": "code",
   "execution_count": 28,
   "metadata": {},
   "outputs": [
    {
     "name": "stdout",
     "output_type": "stream",
     "text": [
      "0.231655\n"
     ]
    }
   ],
   "source": [
    "print((total_time)/(1000*1000))"
   ]
  },
  {
   "cell_type": "code",
   "execution_count": 39,
   "metadata": {},
   "outputs": [],
   "source": [
    "import time\n",
    "total_time = 0\n",
    "for x in range(1000):\n",
    "    dish_proxy = DeviceProxy(replicated_dishes[x])\n",
    "    start = time.time()\n",
    "    dummy_value = dish_proxy.achievedPointing\n",
    "    end = time.time()\n",
    "    total_time += (end - start)"
   ]
  },
  {
   "cell_type": "code",
   "execution_count": 40,
   "metadata": {},
   "outputs": [
    {
     "name": "stdout",
     "output_type": "stream",
     "text": [
      "3.5203804969787598\n"
     ]
    }
   ],
   "source": [
    "print(total_time)"
   ]
  },
  {
   "cell_type": "markdown",
   "metadata": {},
   "source": [
    "## Tests observations"
   ]
  },
  {
   "cell_type": "markdown",
   "metadata": {},
   "source": [
    "*display console for checking the states*"
   ]
  },
  {
   "cell_type": "code",
   "execution_count": 7,
   "metadata": {},
   "outputs": [
    {
     "data": {
      "application/vnd.jupyter.widget-view+json": {
       "model_id": "586284baa4b047819a7f9ff41bc5dc6b",
       "version_major": 2,
       "version_minor": 0
      },
      "text/plain": [
       "Output(layout=Layout(border='1px solid black'))"
      ]
     },
     "metadata": {},
     "output_type": "display_data"
    }
   ],
   "source": [
    "import ipywidgets as widgets\n",
    "out = widgets.Output(layout={'border': '1px solid black'})\n",
    "out"
   ]
  },
  {
   "cell_type": "markdown",
   "metadata": {},
   "source": [
    "*creation of objects for controlling system*"
   ]
  },
  {
   "cell_type": "code",
   "execution_count": null,
   "metadata": {},
   "outputs": [],
   "source": [
    "telescope = SKAMid()\n",
    "subarray = SubArray(1)"
   ]
  },
  {
   "cell_type": "code",
   "execution_count": null,
   "metadata": {},
   "outputs": [],
   "source": [
    "show(par1)"
   ]
  },
  {
   "cell_type": "code",
   "execution_count": null,
   "metadata": {},
   "outputs": [],
   "source": [
    "show(par1)\n",
    "read('ska_mid/tm_subarray_node/1','receptorIDList')\n",
    "read('mid_csp/elt/subarray_01','receptors')\n",
    "read('mid_csp/elt/master','receptorMembership')"
   ]
  },
  {
   "cell_type": "markdown",
   "metadata": {},
   "source": [
    "### Run a Test"
   ]
  },
  {
   "cell_type": "code",
   "execution_count": null,
   "metadata": {},
   "outputs": [],
   "source": [
    "telescope.start_up()\n",
    "show(par1)"
   ]
  },
  {
   "cell_type": "code",
   "execution_count": null,
   "metadata": {},
   "outputs": [],
   "source": [
    "subarray.allocate(ResourceAllocation(dishes=[Dish(1), Dish(2), Dish(3), Dish(4)]))\n",
    "show(par1)\n",
    "read('ska_mid/tm_subarray_node/1','receptorIDList')\n",
    "read('mid_csp/elt/subarray_01','receptors')\n",
    "read('mid_csp/elt/master','receptorMembership')"
   ]
  },
  {
   "cell_type": "code",
   "execution_count": null,
   "metadata": {},
   "outputs": [],
   "source": [
    "update_file(file)\n",
    "subarray.configure_from_file(file,false)\n",
    "show(par1)"
   ]
  },
  {
   "cell_type": "code",
   "execution_count": null,
   "metadata": {},
   "outputs": [],
   "source": [
    "subarray.end_sb()"
   ]
  },
  {
   "cell_type": "code",
   "execution_count": null,
   "metadata": {},
   "outputs": [],
   "source": [
    "subarray.deallocate()\n",
    "show(par1)\n",
    "read('ska_mid/tm_subarray_node/1','receptorIDList')\n",
    "read('mid_csp/elt/subarray_01','receptors')\n",
    "read('mid_csp/elt/master','receptorMembership')"
   ]
  },
  {
   "cell_type": "code",
   "execution_count": null,
   "metadata": {},
   "outputs": [],
   "source": [
    "telescope.standby()\n",
    "show(par1)"
   ]
  },
  {
   "cell_type": "code",
   "execution_count": null,
   "metadata": {},
   "outputs": [],
   "source": []
  }
 ],
 "metadata": {
  "kernelspec": {
   "display_name": "Python 3",
   "language": "python",
   "name": "python3"
  },
  "language_info": {
   "codemirror_mode": {
    "name": "ipython",
    "version": 3
   },
   "file_extension": ".py",
   "mimetype": "text/x-python",
   "name": "python",
   "nbconvert_exporter": "python",
   "pygments_lexer": "ipython3",
   "version": "3.7.3"
  }
 },
 "nbformat": 4,
 "nbformat_minor": 4
}
