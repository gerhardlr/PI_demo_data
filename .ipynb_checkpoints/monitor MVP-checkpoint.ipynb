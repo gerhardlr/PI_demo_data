{
 "cells": [
  {
   "cell_type": "code",
   "execution_count": 371,
   "metadata": {},
   "outputs": [],
   "source": [
    "import asyncio\n",
    "from IPython.display import display\n",
    "from tango.asyncio import DeviceProxy\n",
    "from tango import CommunicationFailed, DevFailed\n",
    "import ipywidgets as widgets\n",
    "\n",
    "        \n",
    "async def poll_background(widget,device=\"sys/tg_test/1\",attribute_to_read='State',mapping=None,resolution=0.2):\n",
    "    while True:\n",
    "        dev = await DeviceProxy(device)\n",
    "        try:\n",
    "            result = await dev.read_attribute(attribute_to_read)\n",
    "            if (mapping != None):\n",
    "                result = mapping[result.value]\n",
    "            else:\n",
    "                result = result.value\n",
    "        except DevFailed as df:\n",
    "            result = 'Failed to read {0}: \\n {1}'.format(attribute_to_read,df)\n",
    "        widget.update_value(str(result))\n",
    "        await asyncio.sleep(resolution)\n",
    " \n",
    " \n",
    "class ennum_widget:\n",
    "    \n",
    "    def __init__(self,description,options):\n",
    "        self.widget = widgets.RadioButtons(\n",
    "        options=options,\n",
    "        description=description,\n",
    "        layout={'width': 'max-content'},\n",
    "        style = {'description_width': 'initial'},\n",
    "        disabled=True)\n",
    "    \n",
    "    def update_value(self,value):\n",
    "        self.widget.value = value\n",
    "    \n",
    "    def get_actual_widget(self):\n",
    "        return self.widget\n",
    "\n",
    "class text_widget:\n",
    "    \n",
    "    def __init__(self,prefix):\n",
    "        self.prefix = prefix\n",
    "        self.widget = widgets.Label(\n",
    "        value=prefix)\n",
    "        \n",
    "    def update_value(self,value):\n",
    "        self.widget.value = self.prefix+value\n",
    "    \n",
    "    def get_actual_widget(self):\n",
    "        return self.widget\n",
    "\n",
    "class text_box():\n",
    "    \n",
    "    def __init__(self,spec):\n",
    "        self.par = [\n",
    "            {'widget':text_widget('{0} for {1}: '.format(spec['attr'],x)),\n",
    "            'device' : x,\n",
    "            'attr': spec['attr'],\n",
    "            'mapping' :spec['mapping']} \n",
    "            for x in spec['names']]\n",
    "        self.box = widgets.VBox([item['widget'].get_actual_widget() for item in self.par])\n",
    "        self.tasks = []\n",
    "        \n",
    "    def display(self):\n",
    "        display(self.box)\n",
    "        \n",
    "    def run(self,resolution = 0.2):\n",
    "        for item in self.par:\n",
    "            self.tasks.append(asyncio.create_task(poll_background(item['widget'],item['device'],item['attr'],item['mapping'],resolution)))\n",
    "    \n",
    "    def stop(self):\n",
    "        for task in self.tasks:\n",
    "            task.cancel()\n",
    "\n",
    "class ennum_box():\n",
    "    \n",
    "    def __init__(self,spec):\n",
    "        self.pars = []\n",
    "        for x in spec['names']:\n",
    "            par = {}\n",
    "            description = '{0} \\n {1}: '.format(spec['attr'],x)\n",
    "            options = list(spec['mapping'].values())\n",
    "            par['widget'] = ennum_widget(description,options)\n",
    "            par['device'] = x\n",
    "            par['attr'] = spec['attr']\n",
    "            par['mapping'] = spec['mapping']\n",
    "            self.pars.append(par)\n",
    "        self.box = widgets.VBox([item['widget'].get_actual_widget() for item in self.pars])\n",
    "        self.tasks = []\n",
    "        \n",
    "    def display(self):\n",
    "        display(self.box) \n",
    "        \n",
    "    def run(self,resolution = 0.2):\n",
    "        for item in self.par:\n",
    "            self.tasks.append(asyncio.create_task(poll_background(item['widget'],item['device'],item['attr'],item['mapping'],resolution)))\n",
    "    \n",
    "    def stop(self):\n",
    "        for task in self.tasks:\n",
    "            task.cancel()\n",
    "        \n",
    "    \n",
    "        "
   ]
  },
  {
   "cell_type": "code",
   "execution_count": 372,
   "metadata": {},
   "outputs": [
    {
     "data": {
      "application/vnd.jupyter.widget-view+json": {
       "model_id": "f8316a8854a44bc2bc8f88366c27b796",
       "version_major": 2,
       "version_minor": 0
      },
      "text/plain": [
       "VBox(children=(RadioButtons(description='obsState \\n ska_mid/tm_subarray_node/1: ', disabled=True, layout=Layo…"
      ]
     },
     "metadata": {},
     "output_type": "display_data"
    }
   ],
   "source": [
    "mapping = {0:'IDLE',2:'READY',3:'CONFIGURING',4:'SCANNING'}\n",
    "spec = {'attr':'obsState','mapping':mapping,'names':\n",
    "       ['ska_mid/tm_subarray_node/1',\n",
    "        'mid_sdp/elt/subarray_1',\n",
    "        'mid_csp/elt/subarray_01']}\n",
    "box = ennum_box(spec)\n",
    "box.display()"
   ]
  },
  {
   "cell_type": "code",
   "execution_count": 345,
   "metadata": {},
   "outputs": [
    {
     "data": {
      "text/plain": [
       "['IDLE', 'READY', 'CONFIGURING', 'SCANNING']"
      ]
     },
     "execution_count": 345,
     "metadata": {},
     "output_type": "execute_result"
    }
   ],
   "source": [
    "mapping = {0:'IDLE',2:'READY',3:'CONFIGURING',4:'SCANNING'}\n",
    "spec = {'attr':'obsState','mapping':mapping,'names':\n",
    "       ['ska_mid/tm_subarray_node/1',\n",
    "        'mid_csp/elt/subarray_01']}\n",
    "box = text_box(spec)\n",
    "box.display()"
   ]
  },
  {
   "cell_type": "code",
   "execution_count": 348,
   "metadata": {},
   "outputs": [
    {
     "name": "stdout",
     "output_type": "stream",
     "text": [
      "TypeError: unhashable type: 'dict'\n",
      "(For more detailed information type: python_error)\n"
     ]
    }
   ],
   "source": [
    "box = ennum_box(spec)"
   ]
  },
  {
   "cell_type": "code",
   "execution_count": 339,
   "metadata": {},
   "outputs": [],
   "source": [
    "box.run()"
   ]
  },
  {
   "cell_type": "code",
   "execution_count": 340,
   "metadata": {},
   "outputs": [],
   "source": [
    "box.stop()"
   ]
  },
  {
   "cell_type": "code",
   "execution_count": 342,
   "metadata": {},
   "outputs": [
    {
     "data": {
      "application/vnd.jupyter.widget-view+json": {
       "model_id": "d5a46ccf5b7c4fe1a13ad75c5f47dbf2",
       "version_major": 2,
       "version_minor": 0
      },
      "text/plain": [
       "VBox(children=(Label(value='obsState for ska_mid/tm_subarray_node/1: IDLE'), Label(value='obsState for mid_csp…"
      ]
     },
     "metadata": {},
     "output_type": "display_data"
    }
   ],
   "source": [
    "box.display()"
   ]
  },
  {
   "cell_type": "code",
   "execution_count": 352,
   "metadata": {},
   "outputs": [
    {
     "name": "stdout",
     "output_type": "stream",
     "text": [
      "TypeError: unhashable type: 'dict'\n",
      "(For more detailed information type: python_error)\n"
     ]
    }
   ],
   "source": [
    "for x in spec['names']:\n",
    "    par = {}\n",
    "    description = '{0} for {1}: '.format(spec['attr'],x)\n",
    "    options = spec[mapping]"
   ]
  },
  {
   "cell_type": "code",
   "execution_count": null,
   "metadata": {},
   "outputs": [],
   "source": []
  }
 ],
 "metadata": {
  "kernelspec": {
   "display_name": "ITango",
   "language": "python",
   "name": "tango"
  },
  "language_info": {
   "codemirror_mode": {
    "name": "ipython",
    "version": 3
   },
   "file_extension": ".py",
   "mimetype": "text/x-python",
   "name": "python",
   "nbconvert_exporter": "python",
   "pygments_lexer": "ipython3",
   "version": "3.7.3"
  }
 },
 "nbformat": 4,
 "nbformat_minor": 4
}
