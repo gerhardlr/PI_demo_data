{
 "cells": [
  {
   "cell_type": "markdown",
   "metadata": {},
   "source": [
    "# Workspace for doing exploration testing and analysis"
   ]
  },
  {
   "cell_type": "markdown",
   "metadata": {},
   "source": [
    "## Imports and some helper functions"
   ]
  },
  {
   "cell_type": "code",
   "execution_count": 17,
   "metadata": {},
   "outputs": [],
   "source": [
    "from tango import DeviceProxy, DevState, CmdArgType\n",
    "from numpy import ndarray\n",
    "class resource:\n",
    "\n",
    "    device_name = None\n",
    "\n",
    "    def __init__(self,device_name):\n",
    "        self.device_name = device_name\n",
    "    \n",
    "    def get(self,attr):\n",
    "        p = DeviceProxy(self.device_name)\n",
    "        attrs = p.get_attribute_list()\n",
    "        if (attr not in attrs) : return \"attribute not found\"\n",
    "        tp = p._get_attribute_config(attr).data_type\n",
    "        if (tp == CmdArgType.DevEnum):\n",
    "            return getattr(p,attr).name\n",
    "        if (tp == CmdArgType.DevState):\n",
    "            return str(p.read_attribute(attr).value)\n",
    "        else:\n",
    "            value = getattr(p,attr)\n",
    "            if isinstance(value,ndarray):\n",
    "                return tuple(value)\n",
    "            return getattr(p,attr)"
   ]
  },
  {
   "cell_type": "code",
   "execution_count": 3,
   "metadata": {},
   "outputs": [],
   "source": [
    "def update_file(file):\n",
    "    import json\n",
    "    import random\n",
    "    from datetime import date \n",
    "    with open(file,'r') as f: \n",
    "        data = json.load(f)\n",
    "    data['sdp']['configure'][0]['id'] = \"realtime-\"+date.today().strftime(\"%Y%m%d\")+\"-\"+str(random.choice(range(1, 10000))) \n",
    "    with open(file,'w') as f:\n",
    "        json.dump(data, f)\n",
    "file = \"sp354/polaris_b1_no_cam.json\""
   ]
  },
  {
   "cell_type": "code",
   "execution_count": 4,
   "metadata": {},
   "outputs": [],
   "source": [
    "def show(par):\n",
    "    out.clear_output()\n",
    "    with out:\n",
    "        for n in par['names']:\n",
    "            l = [n]\n",
    "            for a in par['att']:\n",
    "                l.append(a)\n",
    "                l.append(resource(n).get(a))\n",
    "            t = tuple(l)\n",
    "            print('%s is in %s %s and %s %s'%t)"
   ]
  },
  {
   "cell_type": "code",
   "execution_count": 5,
   "metadata": {},
   "outputs": [],
   "source": [
    "def read(dev,att):\n",
    "    with out:\n",
    "        val=resource(dev).get(att)\n",
    "        print('%s %s is %s'%(dev,att,val))"
   ]
  },
  {
   "cell_type": "code",
   "execution_count": 6,
   "metadata": {},
   "outputs": [],
   "source": [
    "par1 = {'names':['ska_mid/tm_subarray_node/1',\n",
    "'mid_csp/elt/subarray_01',\n",
    "'mid_sdp/elt/subarray_1',\n",
    "'mid_csp_cbf/sub_elt/subarray_01'],\n",
    "'att':['obsState'\n",
    ",'State']}"
   ]
  },
  {
   "cell_type": "markdown",
   "metadata": {},
   "source": [
    "### Analyse latencies"
   ]
  },
  {
   "cell_type": "markdown",
   "metadata": {},
   "source": [
    "*Create an array of dishmasters - replicated according to the total nr required for the test*"
   ]
  },
  {
   "cell_type": "code",
   "execution_count": 19,
   "metadata": {},
   "outputs": [],
   "source": [
    "dishnames = ['mid_d0001/elt/master','mid_d0002/elt/master','mid_d0003/elt/master','mid_d0004/elt/master']\n",
    "replicated_dishes = [dishnames[x % 4] for x in range(1000)]"
   ]
  },
  {
   "cell_type": "code",
   "execution_count": 26,
   "metadata": {},
   "outputs": [],
   "source": [
    "total_time = 0\n",
    "for x in range(1000):\n",
    "    dish_proxy = DeviceProxy(replicated_dishes[x])\n",
    "    total_time += dish_proxy.ping()"
   ]
  },
  {
   "cell_type": "code",
   "execution_count": 28,
   "metadata": {},
   "outputs": [
    {
     "name": "stdout",
     "output_type": "stream",
     "text": [
      "0.231655\n"
     ]
    }
   ],
   "source": [
    "print((total_time)/(1000*1000))"
   ]
  },
  {
   "cell_type": "code",
   "execution_count": 39,
   "metadata": {},
   "outputs": [],
   "source": [
    "import time\n",
    "total_time = 0\n",
    "for x in range(1000):\n",
    "    dish_proxy = DeviceProxy(replicated_dishes[x])\n",
    "    start = time.time()\n",
    "    dummy_value = dish_proxy.achievedPointing\n",
    "    end = time.time()\n",
    "    total_time += (end - start)"
   ]
  },
  {
   "cell_type": "code",
   "execution_count": 40,
   "metadata": {},
   "outputs": [
    {
     "name": "stdout",
     "output_type": "stream",
     "text": [
      "3.5203804969787598\n"
     ]
    }
   ],
   "source": [
    "print(total_time)"
   ]
  },
  {
   "cell_type": "markdown",
   "metadata": {},
   "source": [
    "## Tests observations"
   ]
  },
  {
   "cell_type": "markdown",
   "metadata": {},
   "source": [
    "*display console for checking the states*"
   ]
  },
  {
   "cell_type": "code",
   "execution_count": 7,
   "metadata": {},
   "outputs": [
    {
     "data": {
      "application/vnd.jupyter.widget-view+json": {
       "model_id": "586284baa4b047819a7f9ff41bc5dc6b",
       "version_major": 2,
       "version_minor": 0
      },
      "text/plain": [
       "Output(layout=Layout(border='1px solid black'))"
      ]
     },
     "metadata": {},
     "output_type": "display_data"
    }
   ],
   "source": [
    "import ipywidgets as widgets\n",
    "out = widgets.Output(layout={'border': '1px solid black'})\n",
    "out"
   ]
  },
  {
   "cell_type": "markdown",
   "metadata": {},
   "source": [
    "*creation of objects for controlling system*"
   ]
  },
  {
   "cell_type": "code",
   "execution_count": null,
   "metadata": {},
   "outputs": [],
   "source": [
    "telescope = SKAMid()\n",
    "subarray = SubArray(1)"
   ]
  },
  {
   "cell_type": "code",
   "execution_count": null,
   "metadata": {},
   "outputs": [],
   "source": [
    "show(par1)"
   ]
  },
  {
   "cell_type": "code",
   "execution_count": null,
   "metadata": {},
   "outputs": [],
   "source": [
    "show(par1)\n",
    "read('ska_mid/tm_subarray_node/1','receptorIDList')\n",
    "read('mid_csp/elt/subarray_01','receptors')\n",
    "read('mid_csp/elt/master','receptorMembership')"
   ]
  },
  {
   "cell_type": "markdown",
   "metadata": {},
   "source": [
    "### Run a Test"
   ]
  },
  {
   "cell_type": "code",
   "execution_count": null,
   "metadata": {},
   "outputs": [],
   "source": [
    "telescope.start_up()\n",
    "show(par1)"
   ]
  },
  {
   "cell_type": "code",
   "execution_count": null,
   "metadata": {},
   "outputs": [],
   "source": [
    "subarray.allocate(ResourceAllocation(dishes=[Dish(1), Dish(2), Dish(3), Dish(4)]))\n",
    "show(par1)\n",
    "read('ska_mid/tm_subarray_node/1','receptorIDList')\n",
    "read('mid_csp/elt/subarray_01','receptors')\n",
    "read('mid_csp/elt/master','receptorMembership')"
   ]
  },
  {
   "cell_type": "code",
   "execution_count": null,
   "metadata": {},
   "outputs": [],
   "source": [
    "update_file(file)\n",
    "subarray.configure_from_file(file,false)\n",
    "show(par1)"
   ]
  },
  {
   "cell_type": "code",
   "execution_count": null,
   "metadata": {},
   "outputs": [],
   "source": [
    "subarray.end_sb()"
   ]
  },
  {
   "cell_type": "code",
   "execution_count": null,
   "metadata": {},
   "outputs": [],
   "source": [
    "subarray.deallocate()\n",
    "show(par1)\n",
    "read('ska_mid/tm_subarray_node/1','receptorIDList')\n",
    "read('mid_csp/elt/subarray_01','receptors')\n",
    "read('mid_csp/elt/master','receptorMembership')"
   ]
  },
  {
   "cell_type": "code",
   "execution_count": null,
   "metadata": {},
   "outputs": [],
   "source": [
    "telescope.standby()\n",
    "show(par1)"
   ]
  },
  {
   "cell_type": "markdown",
   "metadata": {},
   "source": [
    "## Testing the OET test runner (OET cluster)"
   ]
  },
  {
   "cell_type": "markdown",
   "metadata": {},
   "source": [
    "### Help Information"
   ]
  },
  {
   "cell_type": "markdown",
   "metadata": {},
   "source": [
    "**General help information can be obtained by typing the command:**"
   ]
  },
  {
   "cell_type": "code",
   "execution_count": 1,
   "metadata": {},
   "outputs": [
    {
     "name": "stdout",
     "output_type": "stream",
     "text": [
      "\u001b[1mNAME\u001b[0m\r\n",
      "    oet - OET script execution client.\r\n",
      "\r\n",
      "\u001b[1mSYNOPSIS\u001b[0m\r\n",
      "    oet - \u001b[4mCOMMAND\u001b[0m\r\n",
      "\r\n",
      "\u001b[1mDESCRIPTION\u001b[0m\r\n",
      "    This client can be used to connect to a remote OET script execution\r\n",
      "    service. With this client, you can create procedures, list procedures, and\r\n",
      "    start a procedure that is ready for execution.\r\n",
      "\r\n",
      "    Multiple procedures may be initialised, but only one script may be\r\n",
      "    running at any one time.\r\n",
      "\r\n",
      "\u001b[1mCOMMANDS\u001b[0m\r\n",
      "    \u001b[1m\u001b[4mCOMMAND\u001b[0m\u001b[0m is one of the following:\r\n",
      "\r\n",
      "     create\r\n",
      "       Create a new Procedure.\r\n",
      "\r\n",
      "     list\r\n",
      "       List procedures registered on the targeted server.\r\n",
      "\r\n",
      "     start\r\n",
      "       Start a specified Procedure.\r\n"
     ]
    }
   ],
   "source": [
    "!oet"
   ]
  },
  {
   "cell_type": "markdown",
   "metadata": {},
   "source": [
    "**Detailed help information for specific commands is also available e.g.:**"
   ]
  },
  {
   "cell_type": "code",
   "execution_count": 2,
   "metadata": {},
   "outputs": [
    {
     "name": "stdout",
     "output_type": "stream",
     "text": [
      "INFO: Showing help with the command 'oet create -- --help'.\n",
      "\n",
      "\u001b[1mNAME\u001b[0m\n",
      "    oet create - Create a new Procedure.\n",
      "\n",
      "\u001b[1mSYNOPSIS\u001b[0m\n",
      "    oet create \u001b[4mSCRIPT_URI\u001b[0m <flags> [\u001b[4mARGS\u001b[0m]...\n",
      "\n",
      "\u001b[1mDESCRIPTION\u001b[0m\n",
      "    Arguments will be passed to the Procedure initialiser.\n",
      "\n",
      "    Example:\n",
      "\n",
      "        oet create file://path/to/script.py 'hello' --verbose=true\n",
      "\n",
      "\u001b[1mPOSITIONAL ARGUMENTS\u001b[0m\n",
      "    \u001b[1m\u001b[4mSCRIPT_URI\u001b[0m\u001b[0m\n",
      "        script URI, e.g., file://test.py\n",
      "    \u001b[1m\u001b[4mARGS\u001b[0m\u001b[0m\n",
      "        script positional arguments\n",
      "\n",
      "\u001b[1mFLAGS\u001b[0m\n",
      "    Flags are accepted.\n",
      "        script keyword arguments\n",
      "\n",
      "\u001b[1mNOTES\u001b[0m\n",
      "    You can also use flags syntax for POSITIONAL ARGUMENTS\n"
     ]
    }
   ],
   "source": [
    "!oet create --help"
   ]
  },
  {
   "cell_type": "markdown",
   "metadata": {},
   "source": [
    "### Examples"
   ]
  },
  {
   "cell_type": "markdown",
   "metadata": {},
   "source": [
    "This section runs through an example session in which we will load two new ‘Procedures’ and then run one of them. First we load the procedures:"
   ]
  },
  {
   "cell_type": "code",
   "execution_count": 3,
   "metadata": {},
   "outputs": [
    {
     "name": "stdout",
     "output_type": "stream",
     "text": [
      "  ID  URI                                              Script                          State\r\n",
      "----  -----------------------------------------------  ------------------------------  -------\r\n",
      "   2  http://rest-oet-test:5000/api/v1.0/procedures/2  file:///scripts/hello_world.py  READY\r\n"
     ]
    }
   ],
   "source": [
    "!oet create file:///scripts/hello_world.py 'hello' --verbose=true"
   ]
  },
  {
   "cell_type": "markdown",
   "metadata": {},
   "source": [
    "Note the use of both positional and keyword/value arguments for the procedure on the command line. Now create a second procedure:"
   ]
  },
  {
   "cell_type": "code",
   "execution_count": 2,
   "metadata": {},
   "outputs": [
    {
     "name": "stdout",
     "output_type": "stream",
     "text": [
      "  ID  URI                                              Script                          State\r\n",
      "----  -----------------------------------------------  ------------------------------  -------\r\n",
      "   1  http://rest-oet-test:5000/api/v1.0/procedures/1  file:///scripts/hello_world.py  READY\r\n"
     ]
    }
   ],
   "source": [
    "!oet create file:///scripts/hello_world.py 'goodbye'"
   ]
  },
  {
   "cell_type": "markdown",
   "metadata": {},
   "source": [
    "We can check the state of the procedures currently loaded by:"
   ]
  },
  {
   "cell_type": "code",
   "execution_count": 4,
   "metadata": {},
   "outputs": [
    {
     "name": "stdout",
     "output_type": "stream",
     "text": [
      "  ID  URI                                              Script                          State\r\n",
      "----  -----------------------------------------------  ------------------------------  -------\r\n",
      "   1  http://rest-oet-test:5000/api/v1.0/procedures/1  file:///scripts/hello_world.py  READY\r\n",
      "   2  http://rest-oet-test:5000/api/v1.0/procedures/2  file:///scripts/hello_world.py  READY\r\n"
     ]
    }
   ],
   "source": [
    "!oet list"
   ]
  },
  {
   "cell_type": "markdown",
   "metadata": {},
   "source": [
    "Alternatively, we could check the state of procedure 2 by typing:"
   ]
  },
  {
   "cell_type": "code",
   "execution_count": 5,
   "metadata": {},
   "outputs": [
    {
     "name": "stdout",
     "output_type": "stream",
     "text": [
      "  ID  URI                                              Script                          State\r\n",
      "----  -----------------------------------------------  ------------------------------  -------\r\n",
      "   2  http://rest-oet-test:5000/api/v1.0/procedures/2  file:///scripts/hello_world.py  READY\r\n"
     ]
    }
   ],
   "source": [
    "!oet list 2"
   ]
  },
  {
   "cell_type": "markdown",
   "metadata": {},
   "source": [
    "Now that we have our procedures loaded we can start one of them running. At this point we supply the index number of the procedure to run, and some runtime arguments to pass to it if required."
   ]
  },
  {
   "cell_type": "code",
   "execution_count": 8,
   "metadata": {},
   "outputs": [
    {
     "name": "stdout",
     "output_type": "stream",
     "text": [
      "  ID  URI                                              Script                          State\r\n",
      "----  -----------------------------------------------  ------------------------------  -------\r\n",
      "   1  http://rest-oet-test:5000/api/v1.0/procedures/1  file:///scripts/hello_world.py  RUNNING\r\n"
     ]
    }
   ],
   "source": [
    "!oet start 2 'bob' --simulate=false"
   ]
  },
  {
   "cell_type": "markdown",
   "metadata": {},
   "source": [
    "A ‘list’ command will give the same information:"
   ]
  },
  {
   "cell_type": "code",
   "execution_count": 9,
   "metadata": {},
   "outputs": [
    {
     "name": "stdout",
     "output_type": "stream",
     "text": [
      "ID    URI    Script    State\r\n",
      "----  -----  --------  -------\r\n"
     ]
    }
   ],
   "source": [
    "!oet list"
   ]
  },
  {
   "cell_type": "markdown",
   "metadata": {},
   "source": [
    "### Example session in a SKAMPI environment"
   ]
  },
  {
   "cell_type": "markdown",
   "metadata": {},
   "source": [
    "*# create process for telescope start-up and execute it*"
   ]
  },
  {
   "cell_type": "code",
   "execution_count": 11,
   "metadata": {},
   "outputs": [
    {
     "name": "stdout",
     "output_type": "stream",
     "text": [
      "  ID  URI                                              Script                      State\n",
      "----  -----------------------------------------------  --------------------------  -------\n",
      "   1  http://rest-oet-test:5000/api/v1.0/procedures/1  file:///scripts/startup.py  READY\n",
      "  ID  URI                                              Script                      State\n",
      "----  -----------------------------------------------  --------------------------  -------\n",
      "   1  http://rest-oet-test:5000/api/v1.0/procedures/1  file:///scripts/startup.py  RUNNING\n"
     ]
    }
   ],
   "source": [
    "!oet create file:///scripts/startup.py\n",
    "!oet start"
   ]
  },
  {
   "cell_type": "markdown",
   "metadata": {},
   "source": [
    "*# create process for resource allocation script*"
   ]
  },
  {
   "cell_type": "code",
   "execution_count": 12,
   "metadata": {},
   "outputs": [
    {
     "name": "stdout",
     "output_type": "stream",
     "text": [
      "  ID  URI                                              Script                       State\r\n",
      "----  -----------------------------------------------  ---------------------------  -------\r\n",
      "   1  http://rest-oet-test:5000/api/v1.0/procedures/1  file:///scripts/allocate.py  READY\r\n"
     ]
    }
   ],
   "source": [
    "!oet create file:///scripts/allocate.py"
   ]
  },
  {
   "cell_type": "markdown",
   "metadata": {},
   "source": [
    "*# run the allocation script, allocating dishes 1-4*"
   ]
  },
  {
   "cell_type": "code",
   "execution_count": 14,
   "metadata": {},
   "outputs": [
    {
     "name": "stdout",
     "output_type": "stream",
     "text": [
      "  ID  URI                                              Script                       State\r\n",
      "----  -----------------------------------------------  ---------------------------  -------\r\n",
      "   1  http://rest-oet-test:5000/api/v1.0/procedures/1  file:///scripts/allocate.py  RUNNING\r\n"
     ]
    }
   ],
   "source": [
    "!oet start --dish_ids=1,2,3,4"
   ]
  },
  {
   "cell_type": "markdown",
   "metadata": {},
   "source": [
    "*# create process for configure/scan script*"
   ]
  },
  {
   "cell_type": "code",
   "execution_count": 15,
   "metadata": {},
   "outputs": [
    {
     "name": "stdout",
     "output_type": "stream",
     "text": [
      "  ID  URI                                              Script                      State\r\n",
      "----  -----------------------------------------------  --------------------------  -------\r\n",
      "   1  http://rest-oet-test:5000/api/v1.0/procedures/1  file:///scripts/observe.py  READY\r\n"
     ]
    }
   ],
   "source": [
    "!oet create file:///scripts/observe.py"
   ]
  },
  {
   "cell_type": "markdown",
   "metadata": {},
   "source": [
    "run the script, specifying configuration JSON to applied followed by a 10 second scan. \n",
    "\n",
    "Set process_json to False if JSON should be passed through directly to TMC (possibly required for new SDP schema)"
   ]
  },
  {
   "cell_type": "code",
   "execution_count": 20,
   "metadata": {},
   "outputs": [
    {
     "name": "stdout",
     "output_type": "stream",
     "text": [
      "  ID  URI                                              Script                      State\r\n",
      "----  -----------------------------------------------  --------------------------  -------\r\n",
      "   1  http://rest-oet-test:5000/api/v1.0/procedures/1  file:///scripts/observe.py  RUNNING\r\n"
     ]
    }
   ],
   "source": [
    "!oet start sp354/polaris_b1_no_cam.json 10 --process_json=True"
   ]
  },
  {
   "cell_type": "markdown",
   "metadata": {},
   "source": [
    "create process for resource deallocation script"
   ]
  },
  {
   "cell_type": "code",
   "execution_count": 21,
   "metadata": {},
   "outputs": [
    {
     "name": "stdout",
     "output_type": "stream",
     "text": [
      "  ID  URI                                              Script                         State\r\n",
      "----  -----------------------------------------------  -----------------------------  -------\r\n",
      "   1  http://rest-oet-test:5000/api/v1.0/procedures/1  file:///scripts/deallocate.py  READY\r\n"
     ]
    }
   ],
   "source": [
    "!oet create file:///scripts/deallocate.py"
   ]
  },
  {
   "cell_type": "markdown",
   "metadata": {},
   "source": [
    "run with no arguments, which requests deallocation of all resources"
   ]
  },
  {
   "cell_type": "code",
   "execution_count": 22,
   "metadata": {},
   "outputs": [
    {
     "name": "stdout",
     "output_type": "stream",
     "text": [
      "  ID  URI                                              Script                         State\r\n",
      "----  -----------------------------------------------  -----------------------------  -------\r\n",
      "   1  http://rest-oet-test:5000/api/v1.0/procedures/1  file:///scripts/deallocate.py  RUNNING\r\n"
     ]
    }
   ],
   "source": [
    "!oet start"
   ]
  },
  {
   "cell_type": "markdown",
   "metadata": {},
   "source": [
    "create process for telescope standby script"
   ]
  },
  {
   "cell_type": "code",
   "execution_count": 24,
   "metadata": {},
   "outputs": [
    {
     "name": "stdout",
     "output_type": "stream",
     "text": [
      "  ID  URI                                              Script                      State\n",
      "----  -----------------------------------------------  --------------------------  -------\n",
      "   1  http://rest-oet-test:5000/api/v1.0/procedures/1  file:///scripts/standby.py  READY\n",
      "  ID  URI                                              Script                      State\n",
      "----  -----------------------------------------------  --------------------------  -------\n",
      "   1  http://rest-oet-test:5000/api/v1.0/procedures/1  file:///scripts/standby.py  RUNNING\n"
     ]
    }
   ],
   "source": [
    "!oet create file:///scripts/standby.py\n",
    "!oet start"
   ]
  },
  {
   "cell_type": "code",
   "execution_count": null,
   "metadata": {},
   "outputs": [],
   "source": []
  }
 ],
 "metadata": {
  "kernelspec": {
   "display_name": "Python 3",
   "language": "python",
   "name": "python3"
  },
  "language_info": {
   "codemirror_mode": {
    "name": "ipython",
    "version": 3
   },
   "file_extension": ".py",
   "mimetype": "text/x-python",
   "name": "python",
   "nbconvert_exporter": "python",
   "pygments_lexer": "ipython3",
   "version": "3.7.3"
  }
 },
 "nbformat": 4,
 "nbformat_minor": 4
}
