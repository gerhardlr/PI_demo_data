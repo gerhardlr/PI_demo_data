{
 "cells": [
  {
   "cell_type": "markdown",
   "metadata": {},
   "source": [
    "# Testing status for assigning and configuring a scan"
   ]
  },
  {
   "cell_type": "markdown",
   "metadata": {},
   "source": [
    "## Imports and some helper functions"
   ]
  },
  {
   "cell_type": "code",
   "execution_count": 28,
   "metadata": {},
   "outputs": [],
   "source": [
    "from tango import DeviceProxy, DevState, CmdArgType\n",
    "from oet.domain import SKAMid,SubArray,ResourceAllocation,Dish\n",
    "from  numpy import ndarray\n",
    "class resource:\n",
    "\n",
    "    device_name = None\n",
    "\n",
    "    def __init__(self,device_name):\n",
    "        self.device_name = device_name\n",
    "    \n",
    "    def get(self,attr):\n",
    "        p = DeviceProxy(self.device_name)\n",
    "        attrs = p.get_attribute_list()\n",
    "        if (attr not in attrs) : return \"attribute not found\"\n",
    "        tp = p._get_attribute_config(attr).data_type\n",
    "        if (tp == CmdArgType.DevEnum):\n",
    "            return getattr(p,attr).name\n",
    "        if (tp == CmdArgType.DevState):\n",
    "            return str(p.read_attribute(attr).value)\n",
    "        else:\n",
    "            value = getattr(p,attr)\n",
    "            if isinstance(value,ndarray):\n",
    "                return tuple(value)\n",
    "            return getattr(p,attr)"
   ]
  },
  {
   "cell_type": "code",
   "execution_count": 17,
   "metadata": {},
   "outputs": [],
   "source": [
    "def update_file(file):\n",
    "    import json\n",
    "    import random\n",
    "    from datetime import date \n",
    "    with open(file,'r') as f: \n",
    "        data = json.load(f)\n",
    "    data['sdp']['configure'][0]['id'] = \"realtime-\"+date.today().strftime(\"%Y%m%d\")+\"-\"+str(random.choice(range(1, 10000))) \n",
    "    with open(file,'w') as f:\n",
    "        json.dump(data, f)\n",
    "file = \"sp354/polaris_b1_no_cam.json\""
   ]
  },
  {
   "cell_type": "code",
   "execution_count": 18,
   "metadata": {},
   "outputs": [],
   "source": [
    "def show(par):\n",
    "    out.clear_output()\n",
    "    with out:\n",
    "        for n in par['names']:\n",
    "            l = [n]\n",
    "            for a in par['att']:\n",
    "                l.append(a)\n",
    "                l.append(resource(n).get(a))\n",
    "            t = tuple(l)\n",
    "            print('%s is in %s %s and %s %s'%t)"
   ]
  },
  {
   "cell_type": "code",
   "execution_count": 19,
   "metadata": {},
   "outputs": [],
   "source": [
    "def read(dev,att):\n",
    "    with out:\n",
    "        val=resource(dev).get(att)\n",
    "        print('%s %s is %s'%(dev,att,val))"
   ]
  },
  {
   "cell_type": "code",
   "execution_count": 20,
   "metadata": {},
   "outputs": [],
   "source": [
    "par1 = {'names':['ska_mid/tm_subarray_node/1',\n",
    "'mid_csp/elt/subarray_01',\n",
    "'mid_sdp/elt/subarray_1',\n",
    "'mid_csp_cbf/sub_elt/subarray_01'],\n",
    "'att':['obsState'\n",
    ",'State']}"
   ]
  },
  {
   "cell_type": "markdown",
   "metadata": {},
   "source": [
    "## The testing system"
   ]
  },
  {
   "cell_type": "markdown",
   "metadata": {},
   "source": [
    "*creation of objects for controlling system*"
   ]
  },
  {
   "cell_type": "code",
   "execution_count": 21,
   "metadata": {},
   "outputs": [],
   "source": [
    "telescope = SKAMid()\n",
    "subarray = SubArray(1)"
   ]
  },
  {
   "cell_type": "markdown",
   "metadata": {},
   "source": [
    "*display console for checking the states*"
   ]
  },
  {
   "cell_type": "code",
   "execution_count": 22,
   "metadata": {},
   "outputs": [
    {
     "data": {
      "application/vnd.jupyter.widget-view+json": {
       "model_id": "3f39922df62f422d871923ed92570fb2",
       "version_major": 2,
       "version_minor": 0
      },
      "text/plain": [
       "Output(layout=Layout(border='1px solid black'))"
      ]
     },
     "metadata": {},
     "output_type": "display_data"
    }
   ],
   "source": [
    "import ipywidgets as widgets\n",
    "out = widgets.Output(layout={'border': '1px solid black'})\n",
    "out"
   ]
  },
  {
   "cell_type": "code",
   "execution_count": 23,
   "metadata": {},
   "outputs": [
    {
     "name": "stdout",
     "output_type": "stream",
     "text": [
      "ska_mid/tm_subarray_node/1 is in obsState IDLE and State ON\n",
      "mid_csp/elt/subarray_01 is in obsState IDLE and State ON\n",
      "mid_sdp/elt/subarray_1 is in obsState IDLE and State ON\n",
      "mid_csp_cbf/sub_elt/subarray_01 is in obsState IDLE and State ON\n"
     ]
    }
   ],
   "source": [
    "show(par1)"
   ]
  },
  {
   "cell_type": "code",
   "execution_count": 24,
   "metadata": {},
   "outputs": [
    {
     "name": "stdout",
     "output_type": "stream",
     "text": [
      "ska_mid/tm_subarray_node/1 is in obsState IDLE and State ON\n",
      "mid_csp/elt/subarray_01 is in obsState IDLE and State ON\n",
      "mid_sdp/elt/subarray_1 is in obsState IDLE and State ON\n",
      "mid_csp_cbf/sub_elt/subarray_01 is in obsState IDLE and State ON\n",
      "ska_mid/tm_subarray_node/1 receptorIDList is (1, 2, 3, 4)\n",
      "mid_csp/elt/subarray_01 receptors is (1, 2, 3, 4)\n",
      "mid_csp/elt/master receptorMembership is (1, 1, 1, 1)\n"
     ]
    }
   ],
   "source": [
    "show(par1)\n",
    "read('ska_mid/tm_subarray_node/1','receptorIDList')\n",
    "read('mid_csp/elt/subarray_01','receptors')\n",
    "read('mid_csp/elt/master','receptorMembership')"
   ]
  },
  {
   "cell_type": "markdown",
   "metadata": {},
   "source": [
    "### Run a Test"
   ]
  },
  {
   "cell_type": "code",
   "execution_count": 53,
   "metadata": {},
   "outputs": [
    {
     "name": "stdout",
     "output_type": "stream",
     "text": [
      "ska_mid/tm_subarray_node/1 is in obsState IDLE and State OFF\n",
      "mid_csp/elt/subarray_01 is in obsState IDLE and State DISABLE\n",
      "mid_sdp/elt/subarray_1 is in obsState IDLE and State OFF\n",
      "mid_csp_cbf/sub_elt/subarray_01 is in obsState IDLE and State DISABLE\n"
     ]
    }
   ],
   "source": [
    "telescope.start_up()\n",
    "show(par1)"
   ]
  },
  {
   "cell_type": "code",
   "execution_count": 54,
   "metadata": {},
   "outputs": [
    {
     "name": "stdout",
     "output_type": "stream",
     "text": [
      "ska_mid/tm_subarray_node/1 is in obsState IDLE and State ON\n",
      "mid_csp/elt/subarray_01 is in obsState IDLE and State OFF\n",
      "mid_sdp/elt/subarray_1 is in obsState IDLE and State ON\n",
      "mid_csp_cbf/sub_elt/subarray_01 is in obsState IDLE and State ON\n",
      "ska_mid/tm_subarray_node/1 receptorIDList is (1, 2, 3, 4)\n",
      "mid_csp/elt/subarray_01 receptors is (1, 2, 3, 4)\n",
      "mid_csp/elt/master receptorMembership is (0, 0, 0, 0)\n"
     ]
    }
   ],
   "source": [
    "subarray.allocate(ResourceAllocation(dishes=[Dish(1), Dish(2), Dish(3), Dish(4)]))\n",
    "show(par1)\n",
    "read('ska_mid/tm_subarray_node/1','receptorIDList')\n",
    "read('mid_csp/elt/subarray_01','receptors')\n",
    "read('mid_csp/elt/master','receptorMembership')"
   ]
  },
  {
   "cell_type": "code",
   "execution_count": 55,
   "metadata": {},
   "outputs": [
    {
     "name": "stdout",
     "output_type": "stream",
     "text": [
      "ska_mid/tm_subarray_node/1 is in obsState READY and State ON\n",
      "mid_csp/elt/subarray_01 is in obsState READY and State ON\n",
      "mid_sdp/elt/subarray_1 is in obsState READY and State ON\n",
      "mid_csp_cbf/sub_elt/subarray_01 is in obsState READY and State ON\n"
     ]
    }
   ],
   "source": [
    "update_file(file)\n",
    "subarray.configure_from_file(file,False)\n",
    "show(par1)"
   ]
  },
  {
   "cell_type": "code",
   "execution_count": 56,
   "metadata": {},
   "outputs": [],
   "source": [
    "subarray.end_sb()"
   ]
  },
  {
   "cell_type": "code",
   "execution_count": 57,
   "metadata": {},
   "outputs": [
    {
     "name": "stdout",
     "output_type": "stream",
     "text": [
      "ska_mid/tm_subarray_node/1 is in obsState IDLE and State OFF\n",
      "mid_csp/elt/subarray_01 is in obsState IDLE and State ON\n",
      "mid_sdp/elt/subarray_1 is in obsState IDLE and State OFF\n",
      "mid_csp_cbf/sub_elt/subarray_01 is in obsState IDLE and State ON\n",
      "ska_mid/tm_subarray_node/1 receptorIDList is None\n",
      "mid_csp/elt/subarray_01 receptors is ()\n",
      "mid_csp/elt/master receptorMembership is (1, 1, 1, 1)\n"
     ]
    }
   ],
   "source": [
    "subarray.deallocate()\n",
    "show(par1)\n",
    "read('ska_mid/tm_subarray_node/1','receptorIDList')\n",
    "read('mid_csp/elt/subarray_01','receptors')\n",
    "read('mid_csp/elt/master','receptorMembership')"
   ]
  },
  {
   "cell_type": "code",
   "execution_count": 58,
   "metadata": {},
   "outputs": [
    {
     "name": "stdout",
     "output_type": "stream",
     "text": [
      "ska_mid/tm_subarray_node/1 is in obsState IDLE and State DISABLE\n",
      "mid_csp/elt/subarray_01 is in obsState IDLE and State OFF\n",
      "mid_sdp/elt/subarray_1 is in obsState IDLE and State OFF\n",
      "mid_csp_cbf/sub_elt/subarray_01 is in obsState IDLE and State OFF\n"
     ]
    }
   ],
   "source": [
    "telescope.standby()\n",
    "show(par1)"
   ]
  },
  {
   "cell_type": "code",
   "execution_count": null,
   "metadata": {},
   "outputs": [],
   "source": []
  }
 ],
 "metadata": {
  "kernelspec": {
   "display_name": "Python 3",
   "language": "python",
   "name": "python3"
  },
  "language_info": {
   "codemirror_mode": {
    "name": "ipython",
    "version": 3
   },
   "file_extension": ".py",
   "mimetype": "text/x-python",
   "name": "python",
   "nbconvert_exporter": "python",
   "pygments_lexer": "ipython3",
   "version": "3.7.3"
  }
 },
 "nbformat": 4,
 "nbformat_minor": 4
}
