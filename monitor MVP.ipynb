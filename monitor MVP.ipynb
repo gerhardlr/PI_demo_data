{
 "cells": [
  {
   "cell_type": "code",
   "execution_count": 1,
   "metadata": {},
   "outputs": [],
   "source": [
    "import asyncio\n",
    "from IPython.display import display\n",
    "from tango.asyncio import DeviceProxy\n",
    "from tango import CommunicationFailed, DevFailed\n",
    "import ipywidgets as widgets\n",
    "\n",
    "        \n",
    "async def poll_background(widget,device=\"sys/tg_test/1\",attribute_to_read='State',mapping=None,resolution=0.2):\n",
    "    while True:\n",
    "        dev = await DeviceProxy(device)\n",
    "        try:\n",
    "            result = await dev.read_attribute(attribute_to_read)\n",
    "            if (mapping != None):\n",
    "                result = mapping[result.value]\n",
    "            else:\n",
    "                result = result.value\n",
    "        except DevFailed as df:\n",
    "            result = 'Failed to read {0}: \\n {1}'.format(attribute_to_read,df)\n",
    "        widget.update_value(str(result))\n",
    "        await asyncio.sleep(resolution)\n",
    " \n",
    " \n",
    "class ennum_widget:\n",
    "    \n",
    "    def __init__(self,description,options):\n",
    "        self.widget = widgets.RadioButtons(\n",
    "        options=options,\n",
    "        description=description,\n",
    "        layout={'width': 'max-content'},\n",
    "        style = {'description_width': 'initial'},\n",
    "        disabled=True)\n",
    "    \n",
    "    def update_value(self,value):\n",
    "        self.widget.value = value\n",
    "    \n",
    "    def get_actual_widget(self):\n",
    "        return self.widget\n",
    "\n",
    "class text_widget:\n",
    "    \n",
    "    def __init__(self,prefix):\n",
    "        self.prefix = prefix\n",
    "        self.widget = widgets.Label(\n",
    "        value=prefix)\n",
    "        \n",
    "    def update_value(self,value):\n",
    "        self.widget.value = self.prefix+value\n",
    "    \n",
    "    def get_actual_widget(self):\n",
    "        return self.widget\n",
    "\n",
    "class text_box():\n",
    "    \n",
    "    def __init__(self,spec):\n",
    "        self.par = [\n",
    "            {'widget':text_widget('{0} for {1}: '.format(spec['attr'],x)),\n",
    "            'device' : x,\n",
    "            'attr': spec['attr'],\n",
    "            'mapping' :spec['mapping']} \n",
    "            for x in spec['names']]\n",
    "        self.box = widgets.VBox([item['widget'].get_actual_widget() for item in self.par])\n",
    "        self.tasks = []\n",
    "        \n",
    "    def display(self):\n",
    "        display(self.box)\n",
    "        \n",
    "    def run(self,resolution = 0.2):\n",
    "        for item in self.par:\n",
    "            self.tasks.append(asyncio.create_task(poll_background(item['widget'],item['device'],item['attr'],item['mapping'],resolution)))\n",
    "    \n",
    "    def stop(self):\n",
    "        for task in self.tasks:\n",
    "            task.cancel()\n",
    "\n",
    "class ennum_box():\n",
    "    \n",
    "    def __init__(self,spec):\n",
    "        self.pars = []\n",
    "        for x in spec['names']:\n",
    "            par = {}\n",
    "            description = '{0} \\n {1}: '.format(spec['attr'],x)\n",
    "            options = list(spec['mapping'].values())\n",
    "            par['widget'] = ennum_widget(description,options)\n",
    "            par['device'] = x\n",
    "            par['attr'] = spec['attr']\n",
    "            par['mapping'] = spec['mapping']\n",
    "            self.pars.append(par)\n",
    "        self.box = widgets.VBox([item['widget'].get_actual_widget() for item in self.pars])\n",
    "        self.tasks = []\n",
    "        \n",
    "    def display(self):\n",
    "        display(self.box) \n",
    "        \n",
    "    def run(self,resolution = 0.2):\n",
    "        for item in self.pars:\n",
    "            self.tasks.append(asyncio.create_task(poll_background(item['widget'],item['device'],item['attr'],item['mapping'],resolution)))\n",
    "    \n",
    "    def stop(self):\n",
    "        for task in self.tasks:\n",
    "            task.cancel()\n",
    "        \n",
    "    \n",
    "        "
   ]
  },
  {
   "cell_type": "code",
   "execution_count": 2,
   "metadata": {},
   "outputs": [
    {
     "data": {
      "application/vnd.jupyter.widget-view+json": {
       "model_id": "b72d8b9dc4bd4c0a89288c56c253df6f",
       "version_major": 2,
       "version_minor": 0
      },
      "text/plain": [
       "VBox(children=(RadioButtons(description='obsState \\n ska_mid/tm_subarray_node/1: ', disabled=True, layout=Layo…"
      ]
     },
     "metadata": {},
     "output_type": "display_data"
    }
   ],
   "source": [
    "mapping = {0:'IDLE',2:'READY',3:'CONFIGURING',4:'SCANNING'}\n",
    "spec = {'attr':'obsState','mapping':mapping,'names':\n",
    "       ['ska_mid/tm_subarray_node/1',\n",
    "        'mid_sdp/elt/subarray_1',\n",
    "        'mid_csp/elt/subarray_01']}\n",
    "box = ennum_box(spec)\n",
    "box.display()"
   ]
  },
  {
   "cell_type": "code",
   "execution_count": 3,
   "metadata": {},
   "outputs": [],
   "source": [
    "box.run()"
   ]
  },
  {
   "cell_type": "code",
   "execution_count": 4,
   "metadata": {},
   "outputs": [
    {
     "name": "stderr",
     "output_type": "stream",
     "text": [
      "Task exception was never retrieved\n",
      "future: <Task finished coro=<poll_background() done, defined at <ipython-input-1-bb95af595b09>:8> exception=KeyError(1)>\n",
      "Traceback (most recent call last):\n",
      "  File \"<ipython-input-1-bb95af595b09>\", line 14, in poll_background\n",
      "    result = mapping[result.value]\n",
      "KeyError: 1\n",
      "Task exception was never retrieved\n",
      "future: <Task finished coro=<poll_background() done, defined at <ipython-input-1-bb95af595b09>:8> exception=KeyError(1)>\n",
      "Traceback (most recent call last):\n",
      "  File \"<ipython-input-1-bb95af595b09>\", line 14, in poll_background\n",
      "    result = mapping[result.value]\n",
      "KeyError: 1\n",
      "Task exception was never retrieved\n",
      "future: <Task finished coro=<poll_background() done, defined at <ipython-input-1-bb95af595b09>:8> exception=KeyError(1)>\n",
      "Traceback (most recent call last):\n",
      "  File \"<ipython-input-1-bb95af595b09>\", line 14, in poll_background\n",
      "    result = mapping[result.value]\n",
      "KeyError: 1\n"
     ]
    },
    {
     "data": {
      "application/vnd.jupyter.widget-view+json": {
       "model_id": "4973c8e8cc43485dbe2c0af04dddc79c",
       "version_major": 2,
       "version_minor": 0
      },
      "text/plain": [
       "VBox(children=(Label(value='obsState for ska_mid/tm_subarray_node/1: '), Label(value='obsState for mid_sdp/elt…"
      ]
     },
     "metadata": {},
     "output_type": "display_data"
    }
   ],
   "source": [
    "box = text_box(spec)\n",
    "box.display()"
   ]
  },
  {
   "cell_type": "code",
   "execution_count": null,
   "metadata": {},
   "outputs": [],
   "source": [
    "box.stop()"
   ]
  }
 ],
 "metadata": {
  "kernelspec": {
   "display_name": "ITango",
   "language": "python",
   "name": "tango"
  },
  "language_info": {
   "codemirror_mode": {
    "name": "ipython",
    "version": 3
   },
   "file_extension": ".py",
   "mimetype": "text/x-python",
   "name": "python",
   "nbconvert_exporter": "python",
   "pygments_lexer": "ipython3",
   "version": "3.7.3"
  }
 },
 "nbformat": 4,
 "nbformat_minor": 4
}
